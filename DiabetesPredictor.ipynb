{
 "cells": [
  {
   "cell_type": "markdown",
   "id": "273a2482-663e-4d19-8892-b61b03cce68c",
   "metadata": {},
   "source": [
    "# Streamlit Browser for Diabetes Predictor"
   ]
  },
  {
   "cell_type": "code",
   "execution_count": 12,
   "id": "4ae13092-9dc2-41e6-a971-2f93ac0d4dac",
   "metadata": {},
   "outputs": [],
   "source": [
    "import numpy as np\n",
    "import joblib as jl\n",
    "import streamlit as st"
   ]
  },
  {
   "cell_type": "code",
   "execution_count": 15,
   "id": "32cf863f-1740-4a4b-9795-b7527a36f45c",
   "metadata": {},
   "outputs": [],
   "source": [
    "# load the model\n",
    "loaded_model = jl.load(open('diabetes_model.sav','rb'))"
   ]
  },
  {
   "cell_type": "code",
   "execution_count": 8,
   "id": "392f692d-f2b0-4cc0-b07b-de070c282fd1",
   "metadata": {},
   "outputs": [],
   "source": [
    "# function which inputs the data as a Numpy array\n",
    "# reshapes it into a 2D array with 1 row \n",
    "# makes the prediction using the model we made previously\n",
    "\n",
    "def diabetes_prediction(input_data):\n",
    "    input_dataAsNparray = np.asarray(input_data, dtype=float)\n",
    "\n",
    "    input_data_reshaped = input_dataAsNparray.reshape(1,-1)\n",
    "\n",
    "    prediction = loaded_model.predict(input_data_reshaped)\n",
    "\n",
    "    if prediction == 0:\n",
    "        return \"Non Diabetic\"\n",
    "    else:\n",
    "        return \"Diabetic\""
   ]
  },
  {
   "cell_type": "code",
   "execution_count": 8,
   "id": "764a6c66-5811-46c7-a064-45e324e87c2c",
   "metadata": {},
   "outputs": [],
   "source": [
    "def main():\n",
    "\n",
    "    st.title('Diabetes Prediction Web App')\n",
    "\n",
    "    Pregnancies = float(st.text_input(\"No of Pregnancies: \", value = 0))\n",
    "    Glucose = float(st.text_input(\"Glucose Level: \", value = 0))\n",
    "    BloodPressure = float(st.text_input(\"Blood Pressure Value: \", value= 0))\n",
    "    SkinThickness = float(st.text_input(\" Skin Thickness Value: \", value = 0))\n",
    "    Insulin = float(st.text_input(\"Insulin level: \", value = 0))\n",
    "    BMI = float(st.text_input(\"BMI: \", value = 0))\n",
    "    DiabetesPedigreeFunction = float(st.text_input(\"Diabetes Pedigree Function value \", value = 0))\n",
    "    Age = float(st.text_input(\"Age: \", value = 0))\n",
    "\n",
    "    # Code for prediction\n",
    "    Diagnosis = ' '\n",
    "    # when clicked \n",
    "    if st.button('Predict'):\n",
    "        Diagnosis = diabetes_prediction( [Pregnancies,Glucose,BloodPressure,SkinThickness,Insulin,BMI,DiabetesPedigreeFunction,Age] )\n",
    "\n",
    "    st.success(Diagnosis)\n",
    "\n",
    "if __name__ == '__main__':\n",
    "    main()"
   ]
  },
  {
   "cell_type": "markdown",
   "id": "47e37816-595f-472a-a647-258b8be45f4f",
   "metadata": {},
   "source": [
    "#### This jupyter notebook is then converted into a .py file and using the Anaconda CLI, the streamlit browser is opened with the different fields for input of the data."
   ]
  },
  {
   "cell_type": "markdown",
   "id": "bbde11fc-1687-44fe-996c-a2ffd3c8be54",
   "metadata": {},
   "source": [
    "![title](StreamlitBrowser.png)"
   ]
  }
 ],
 "metadata": {
  "kernelspec": {
   "display_name": "Python 3 (ipykernel)",
   "language": "python",
   "name": "python3"
  },
  "language_info": {
   "codemirror_mode": {
    "name": "ipython",
    "version": 3
   },
   "file_extension": ".py",
   "mimetype": "text/x-python",
   "name": "python",
   "nbconvert_exporter": "python",
   "pygments_lexer": "ipython3",
   "version": "3.11.7"
  }
 },
 "nbformat": 4,
 "nbformat_minor": 5
}
