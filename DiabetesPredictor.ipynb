{
 "cells": [
  {
   "cell_type": "code",
   "execution_count": 3,
   "id": "4ae13092-9dc2-41e6-a971-2f93ac0d4dac",
   "metadata": {},
   "outputs": [],
   "source": [
    "import numpy as np\n",
    "import pickle as pi\n",
    "import streamlit as st"
   ]
  },
  {
   "cell_type": "code",
   "execution_count": null,
   "id": "32cf863f-1740-4a4b-9795-b7527a36f45c",
   "metadata": {},
   "outputs": [],
   "source": [
    "loaded_model = pickle.load(open('trained_model.sav','rb'))"
   ]
  },
  {
   "cell_type": "code",
   "execution_count": 6,
   "id": "392f692d-f2b0-4cc0-b07b-de070c282fd1",
   "metadata": {},
   "outputs": [],
   "source": [
    "def diabetes_prediction(input_data):\n",
    "    input_dataAsNparray = np.asarray(input_data)\n",
    "\n",
    "    input_data_reshaped = input_dataAsNparray.reshape(1,-1)\n",
    "\n",
    "    prediction = loaded_model.predict(input_data_reshaped)\n",
    "\n",
    "    if prediction == 0:\n",
    "        return \"Non Diabetic\"\n",
    "    else:\n",
    "        return \"Diabetic\""
   ]
  },
  {
   "cell_type": "code",
   "execution_count": 4,
   "id": "764a6c66-5811-46c7-a064-45e324e87c2c",
   "metadata": {},
   "outputs": [
    {
     "name": "stderr",
     "output_type": "stream",
     "text": [
      "2024-07-30 13:24:36.548 \n",
      "  \u001b[33m\u001b[1mWarning:\u001b[0m to view this Streamlit app on a browser, run it with the following\n",
      "  command:\n",
      "\n",
      "    streamlit run C:\\Users\\ramah\\OneDrive\\Documents\\Custom Office Templates\\Lib\\site-packages\\ipykernel_launcher.py [ARGUMENTS]\n"
     ]
    }
   ],
   "source": [
    "def main():\n",
    "\n",
    "    st.title('Diabetes Prediction Web App')\n",
    "\n",
    "    Pregnancies = st.text_input(\"No of Pregnancies: \")\n",
    "    Glucose = st.text_input(\"Glucose Level: \")\n",
    "    BloodPressure = st.text_input(\"Blood Pressure Value: \")\n",
    "    SkinThickness = st.text_input(\" Skin Thickness Value: \")\n",
    "    Insulin = st.text_input(\"Insulin level: \")\n",
    "    BMI = st.text_input(\"BMI: \")\n",
    "    DiabetesPedigreeFunction = st.text_input(\"Diabetes Pedigree Function value \")\n",
    "    Age = st.text_input(\"Age: \")\n",
    "\n",
    "    # Code for prediction\n",
    "    Diagnosis = ' '\n",
    "    # when clicked \n",
    "    if st.button('Predict'):\n",
    "        Diagnosis = diabetes_prediction( [Pregnancies,Glucose,BloodPressure,SkinThickness,Insulin,BMI,DiabetesPedigreeFunction,Age] )\n",
    "\n",
    "    st.success(Diagnosis)\n",
    "\n",
    "if __name__ == '__main__':\n",
    "    main()"
   ]
  },
  {
   "cell_type": "code",
   "execution_count": null,
   "id": "87f9abd9-d63b-4838-9cad-b761d701e90f",
   "metadata": {},
   "outputs": [],
   "source": []
  }
 ],
 "metadata": {
  "kernelspec": {
   "display_name": "Python 3 (ipykernel)",
   "language": "python",
   "name": "python3"
  },
  "language_info": {
   "codemirror_mode": {
    "name": "ipython",
    "version": 3
   },
   "file_extension": ".py",
   "mimetype": "text/x-python",
   "name": "python",
   "nbconvert_exporter": "python",
   "pygments_lexer": "ipython3",
   "version": "3.11.7"
  }
 },
 "nbformat": 4,
 "nbformat_minor": 5
}
