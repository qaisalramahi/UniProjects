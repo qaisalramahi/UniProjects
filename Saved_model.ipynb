{
 "cells": [
  {
   "cell_type": "code",
   "execution_count": 333,
   "id": "0bb32c4d-ecac-43a6-afba-d1f6ddc87561",
   "metadata": {},
   "outputs": [],
   "source": [
    "from sklearn.linear_model import LogisticRegression\n",
    "from sklearn.ensemble import RandomForestClassifier\n",
    "from sklearn.svm import SVC\n",
    "from sklearn.model_selection import cross_val_score\n",
    "from sklearn.model_selection import train_test_split\n",
    "from sklearn.preprocessing import StandardScaler\n",
    "from sklearn.metrics import accuracy_score\n",
    "import pandas as pd\n",
    "import joblib\n",
    "import numpy as np"
   ]
  },
  {
   "cell_type": "code",
   "execution_count": 306,
   "id": "e5eb56fc-936d-4bb8-ab07-3103500d1d47",
   "metadata": {},
   "outputs": [
    {
     "data": {
      "text/plain": [
       "Outcome\n",
       "0    500\n",
       "1    268\n",
       "Name: count, dtype: int64"
      ]
     },
     "execution_count": 306,
     "metadata": {},
     "output_type": "execute_result"
    }
   ],
   "source": [
    "df = pd.read_csv('diabetes.csv')\n",
    "df['Outcome'].value_counts()"
   ]
  },
  {
   "cell_type": "code",
   "execution_count": 307,
   "id": "2aa803e5-6bfc-42a1-9ae8-e3ab0955c3ca",
   "metadata": {},
   "outputs": [],
   "source": [
    "# data preprocessing\n",
    "\n",
    "# define the feature columns\n",
    "\n",
    "Feature_columns = [\"Pregnancies\", \"Glucose\" , \"BloodPressure\" , \"SkinThickness\" , \"Insulin\" , \"BMI\", \"DiabetesPedigreeFunction\", \"Age\"]\n",
    "\n",
    "df[Feature_columns] = df[Feature_columns].replace(0,pd.NA)\n",
    "for column in Feature_columns:\n",
    "    df[column].fillna(df[column].mean(), inplace = True)"
   ]
  },
  {
   "cell_type": "code",
   "execution_count": 308,
   "id": "09ad1313-ef54-4c96-8172-48e7cb76b901",
   "metadata": {},
   "outputs": [],
   "source": [
    "# split data set into a target and attributes\n",
    "X = df.drop('Outcome', axis = 1)\n",
    "y = df['Outcome']"
   ]
  },
  {
   "cell_type": "code",
   "execution_count": 309,
   "id": "aba99225-93ca-4b58-80a4-a4a1f5599bda",
   "metadata": {},
   "outputs": [],
   "source": [
    "# feature scaling\n",
    "scaler = StandardScaler()\n",
    "X_scaled = scaler.fit_transform(X_scaled)"
   ]
  },
  {
   "cell_type": "code",
   "execution_count": 349,
   "id": "fc40f18b-fd47-47b5-a8ec-51f04d060bcb",
   "metadata": {},
   "outputs": [
    {
     "name": "stdout",
     "output_type": "stream",
     "text": [
      " Mean score: 77.48%\n"
     ]
    }
   ],
   "source": [
    "#splitting data into training and test data\n",
    "scores = cross_val_score(LogisticRegression(random_state=42),X_scaled, y)\n",
    "avg = np.mean(scores) * 100\n",
    "print(f\" Mean score: {avg.round(2)}%\")"
   ]
  },
  {
   "cell_type": "code",
   "execution_count": 354,
   "id": "66719eed-ec96-474a-98cf-2af06536a452",
   "metadata": {},
   "outputs": [
    {
     "data": {
      "text/plain": [
       "' \\nmodel = LogisticRegression()\\nskf = StratifiedKFold(n_splits=10)\\nscores = []\\n\\nfor train_index, test_index in skf.split(X, y):\\n    X_train, X_test = X.iloc[train_index], X.iloc[test_index]\\n    y_train, y_test = y.iloc[train_index], y.iloc[test_index]\\n    \\nmodel.fit(X_train, y_train)\\nscores.append(model.score(X_test,y_test))\\n\\nI understood that the cross_val_score function is basically doing what is written in the above code\\n'"
      ]
     },
     "execution_count": 354,
     "metadata": {},
     "output_type": "execute_result"
    }
   ],
   "source": [
    "\"\"\" \n",
    "model = LogisticRegression()\n",
    "skf = StratifiedKFold(n_splits=10)\n",
    "scores = []\n",
    "\n",
    "for train_index, test_index in skf.split(X, y):\n",
    "    X_train, X_test = X.iloc[train_index], X.iloc[test_index]\n",
    "    y_train, y_test = y.iloc[train_index], y.iloc[test_index]\n",
    "    \n",
    "model.fit(X_train, y_train)\n",
    "scores.append(model.score(X_test,y_test))\n",
    "\n",
    "I understood that the cross_val_score function is basically doing what is written in the above code\n",
    "\"\"\""
   ]
  },
  {
   "cell_type": "code",
   "execution_count": 291,
   "id": "8aa066bb-9daf-42b1-a611-b19660f7ae8b",
   "metadata": {},
   "outputs": [
    {
     "data": {
      "text/plain": [
       "['diabetes_model.sav']"
      ]
     },
     "execution_count": 291,
     "metadata": {},
     "output_type": "execute_result"
    }
   ],
   "source": [
    "# saving the model\n",
    "filename = \"diabetes_model.sav\"\n",
    "joblib.dump(model,filename)"
   ]
  }
 ],
 "metadata": {
  "kernelspec": {
   "display_name": "Python 3 (ipykernel)",
   "language": "python",
   "name": "python3"
  },
  "language_info": {
   "codemirror_mode": {
    "name": "ipython",
    "version": 3
   },
   "file_extension": ".py",
   "mimetype": "text/x-python",
   "name": "python",
   "nbconvert_exporter": "python",
   "pygments_lexer": "ipython3",
   "version": "3.11.7"
  }
 },
 "nbformat": 4,
 "nbformat_minor": 5
}
